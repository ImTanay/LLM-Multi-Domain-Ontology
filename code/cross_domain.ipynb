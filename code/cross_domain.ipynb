{
  "cells": [
    {
      "cell_type": "markdown",
      "metadata": {
        "id": "RzZVHBi4d2ag"
      },
      "source": [
        "# Code for Cross-Domain Evaluation of LLMs"
      ]
    },
    {
      "cell_type": "markdown",
      "metadata": {
        "id": "ITllRcIodCgE"
      },
      "source": [
        "## Install necessary libraries"
      ]
    },
    {
      "cell_type": "code",
      "execution_count": null,
      "metadata": {
        "id": "2eSvM9zX_2d3"
      },
      "outputs": [],
      "source": [
        "%%capture\n",
        "!pip install unsloth\n",
        "!pip uninstall unsloth -y && pip install --upgrade --no-cache-dir \"unsloth[colab-new] @ git+https://github.com/unslothai/unsloth.git\"\n",
        "!pip install pandas\n",
        "!pip install torch\n",
        "!pip install requests\n",
        "!pip install trl\n",
        "!pip install datasets\n",
        "!pip install transformers"
      ]
    },
    {
      "cell_type": "markdown",
      "metadata": {
        "id": "YleAJkFBdwPT"
      },
      "source": [
        "## Import necessary libraries"
      ]
    },
    {
      "cell_type": "code",
      "execution_count": null,
      "metadata": {
        "colab": {
          "base_uri": "https://localhost:8080/"
        },
        "id": "2VR6DRqrMIEj",
        "outputId": "76dad9f8-6bec-415d-9e8f-d443e6a9265a"
      },
      "outputs": [],
      "source": [
        "import re\n",
        "import os\n",
        "import torch\n",
        "import requests\n",
        "import pandas as pd\n",
        "from trl import SFTTrainer\n",
        "from datetime import datetime\n",
        "from google.colab import drive\n",
        "from datasets import Dataset, load_dataset\n",
        "from unsloth.chat_templates import get_chat_template\n",
        "from unsloth import FastLanguageModel, is_bfloat16_supported\n",
        "from transformers import TrainingArguments, EarlyStoppingCallback"
      ]
    },
    {
      "cell_type": "code",
      "execution_count": null,
      "metadata": {
        "colab": {
          "base_uri": "https://localhost:8080/"
        },
        "id": "UYpqhHdLNHTW",
        "outputId": "1daf70fa-89ec-4635-b2f2-20049ab5d969"
      },
      "outputs": [],
      "source": [
        "# Mount Google Drive to access files and save results\n",
        "\n",
        "drive.mount('/content/drive', force_remount=True)"
      ]
    },
    {
      "cell_type": "code",
      "execution_count": null,
      "metadata": {
        "id": "-m9jCFOrQ8dG"
      },
      "outputs": [],
      "source": [
        "############ UNCOMMENT THE CODE BELOW TO ENABLE TELEGRAM NOTIFICATIONS #############\n",
        "\n",
        "# api_token = \"\"  # Provide your Telegram bot API token here\n",
        "# chat_id = \"\"  # Provide the chat ID where notifications should be sent"
      ]
    },
    {
      "cell_type": "code",
      "execution_count": null,
      "metadata": {
        "id": "7e9dVBRZe-Hl"
      },
      "outputs": [],
      "source": [
        "############ UNCOMMENT AND USE THE FUNCTION BELOW TO ENABLE TELEGRAM NOTIFICATIONS #############\n",
        "\n",
        "# def notify(text='Cell execution completed.'):\n",
        "#     requests.post('https://api.telegram.org/' + 'bot{}/sendMessage'.format(api_token), params=dict(chat_id=chat_id, text=text))"
      ]
    },
    {
      "cell_type": "markdown",
      "metadata": {
        "id": "PlS_sjg5fi_M"
      },
      "source": [
        "## Load Fine-Tuned Model"
      ]
    },
    {
      "cell_type": "code",
      "execution_count": null,
      "metadata": {
        "id": "IhBZpY2sYibd"
      },
      "outputs": [],
      "source": [
        "model_name = \"path/to/fine_tuned_model\"  # Specify the path to your fine-tuned model"
      ]
    },
    {
      "cell_type": "code",
      "execution_count": null,
      "metadata": {
        "colab": {
          "base_uri": "https://localhost:8080/",
          "height": 289,
          "referenced_widgets": [
            "31f067fecb064968913f93f483985ef5",
            "46532f74979a4bdba50d74aac8e49ebf",
            "9b29e0f0f4494dbab0a3be02bcbadf11",
            "45d400368eac4a4fa0ef09f3bc4653d2",
            "7051386007b344c4a429f5d57ced4c26",
            "bdd68b9eb7fe4dd99baff1b0b08ca0e6",
            "a7d6b25e0fc245eea7aa8b2704a44ae8",
            "a5f38c2534e04224a1893630296efb56",
            "10867ecb85ac40aa854caf2821efdb86",
            "dab21024f1254bc1bd880613a72f0469",
            "7bab07a8efbc41b982f9614831aec9cd",
            "5de8d23accd54dd69cb3b25bd0042b7c",
            "174c7536e0644832aa37c48d5416bba2",
            "18022d42f76a4825a19922f4155e7257",
            "48eee1c1a2a34c56adf1fc5b5cd7e15e",
            "88047913bf514379be3b0bd02bb45162",
            "25211a38396a432b94eaa19b472d19a4",
            "93b01995b5b14fcdae3ad4b29f2dddca",
            "a964a312ceda46a88f5b4a4e74893105",
            "8f319d7b4228415198a0beb1ba9d077c",
            "62a122154ad34d108d4b26273054a88c",
            "8b3cd1ef06e84c7aa0d24e2202a0de1e"
          ]
        },
        "id": "QmUBVEnvCDJv",
        "outputId": "7542a4c7-b4b9-4903-dcdf-e0b9c9a046e1"
      },
      "outputs": [],
      "source": [
        "try:\n",
        "    model, tokenizer = FastLanguageModel.from_pretrained(\n",
        "        model_name=model_name,\n",
        "        max_seq_length=1024,\n",
        "        dtype=None,\n",
        "        load_in_4bit=True,\n",
        "    )\n",
        "    print(f\"Model: {model_name} and tokenizer loaded successfully.\")\n",
        "    # Uncomment the line below to enable Telegram notifications when the model and tokenizer are loaded\n",
        "    # notify(f\"Model: {model_name} and tokenizer loaded successfully.\")\n",
        "except Exception as e:\n",
        "    print(f\"Error occurred while loading the model or tokenizer: {e}\")\n",
        "    # Uncomment the line below to enable Telegram notifications for errors during model or tokenizer loading\n",
        "    # notify(f\"Error occurred while loading the model or tokenizer: {e}\")"
      ]
    },
    {
      "cell_type": "markdown",
      "metadata": {
        "id": "9jfX5bncqPLJ"
      },
      "source": [
        "## Load Dataset"
      ]
    },
    {
      "cell_type": "code",
      "execution_count": null,
      "metadata": {
        "id": "T2zQSHpHFa-w"
      },
      "outputs": [],
      "source": [
        "def load_csv_to_dataset(file_path):\n",
        "    df = pd.read_csv(file_path)\n",
        "    dataset = pd.DataFrame(df)\n",
        "    return dataset"
      ]
    },
    {
      "cell_type": "code",
      "execution_count": null,
      "metadata": {
        "id": "v-9qysS3FepL"
      },
      "outputs": [],
      "source": [
        "test_dataset = load_csv_to_dataset(f\"../datasets/IEEE-Rel-3k-Test.csv\")"
      ]
    },
    {
      "cell_type": "markdown",
      "metadata": {},
      "source": [
        "##### The function `analyse_dataset` provides insights into a dataset by displaying its shape, information, descriptive statistics, and category counts for the `simplified_label` column."
      ]
    },
    {
      "cell_type": "code",
      "execution_count": null,
      "metadata": {
        "id": "95cANUFGFl-M"
      },
      "outputs": [],
      "source": [
        "def analyse_dataset(dataset, name):\n",
        "    print(f\"{name} Dataset Analysis:\\n\")\n",
        "    df = pd.DataFrame(dataset)\n",
        "    print(f\"Shape: {df.shape}\")\n",
        "    df.info()\n",
        "    print(f\"\\nDescriptive Statistics:\\n\", df.describe(include='all'))\n",
        "    print(f\"\\n'simplified_label' Category Counts:\\n\", df['simplified_label'].value_counts())\n",
        "    print(\"-\" * 50)"
      ]
    },
    {
      "cell_type": "code",
      "execution_count": null,
      "metadata": {
        "colab": {
          "base_uri": "https://localhost:8080/"
        },
        "id": "qVnDoHYkFoDy",
        "outputId": "b70c88b0-9363-4351-c225-dfca9a185402"
      },
      "outputs": [],
      "source": [
        "analyse_dataset(test_dataset, \"Test\")"
      ]
    },
    {
      "cell_type": "markdown",
      "metadata": {},
      "source": [
        "## Define Prompt"
      ]
    },
    {
      "cell_type": "markdown",
      "metadata": {},
      "source": [
        "##### To ensure consistency and fairness in comparison, the same `prompt_template` is used across all experiments, including fine-tuning and cross-domain evaluation."
      ]
    },
    {
      "cell_type": "code",
      "execution_count": null,
      "metadata": {
        "id": "JhAk0WnvAb_Z"
      },
      "outputs": [],
      "source": [
        "prompt_template = '''\n",
        "Classify the relationship between '[TOPIC-A]' and '[TOPIC-B]'\n",
        "'''"
      ]
    },
    {
      "cell_type": "code",
      "execution_count": null,
      "metadata": {
        "id": "F-9K34cgJUJd"
      },
      "outputs": [],
      "source": [
        "prompt_in_use = prompt_template\n",
        "print(prompt_in_use)"
      ]
    },
    {
      "cell_type": "markdown",
      "metadata": {},
      "source": [
        "##### The function `test_create_conversation` generates a conversation prompt for each row in the dataset by replacing placeholders (`[TOPIC-A]` and `[TOPIC-B]`) in the `prompt_in_use` template with the corresponding subject and object values."
      ]
    },
    {
      "cell_type": "code",
      "execution_count": null,
      "metadata": {
        "id": "uPvrMgGb8jsw"
      },
      "outputs": [],
      "source": [
        "def test_create_conversation(row):\n",
        "    sub = row['subject']\n",
        "    obj = row['object']\n",
        "\n",
        "    human = prompt_in_use.replace(\"[TOPIC-A]\", sub).replace(\"[TOPIC-B]\", obj)\n",
        "\n",
        "    return [{\"from\": \"human\", \"value\": human}]"
      ]
    },
    {
      "cell_type": "code",
      "execution_count": null,
      "metadata": {
        "id": "gGoAV7lP8n9I"
      },
      "outputs": [],
      "source": [
        "# Generate a 'conversations' column in the test dataset by applying the `test_create_conversation` function to each row\n",
        "\n",
        "test_dataset['conversations'] = test_dataset.apply(test_create_conversation, axis=1)"
      ]
    },
    {
      "cell_type": "markdown",
      "metadata": {},
      "source": [
        "##### The function `print_first_conversation` displays the first conversation from the `conversations` column of the dataset."
      ]
    },
    {
      "cell_type": "code",
      "execution_count": null,
      "metadata": {
        "id": "0YF4Z17mo0Hc"
      },
      "outputs": [],
      "source": [
        "def print_first_conversation():\n",
        "\n",
        "    for dataset_name, dataset in zip([\"test\"], [test_dataset]):\n",
        "        try:\n",
        "            first_conversation = dataset['conversations'][0]\n",
        "            print(f\"{dataset_name} dataset:\")\n",
        "            print(first_conversation)\n",
        "        except (IndexError, KeyError) as e:\n",
        "            print(f\"Error accessing 'conversations' in {dataset_name} dataset: {e}\")"
      ]
    },
    {
      "cell_type": "code",
      "execution_count": null,
      "metadata": {
        "colab": {
          "base_uri": "https://localhost:8080/"
        },
        "id": "C165n7rJo5lV",
        "outputId": "a4b532ae-5b15-495a-88b6-4e8167ee6d60"
      },
      "outputs": [],
      "source": [
        "print_first_conversation()"
      ]
    },
    {
      "cell_type": "markdown",
      "metadata": {},
      "source": [
        "##### The function `formatting_prompts_func` applies a chat template to format the conversations in the dataset."
      ]
    },
    {
      "cell_type": "code",
      "execution_count": null,
      "metadata": {
        "colab": {
          "base_uri": "https://localhost:8080/"
        },
        "id": "DjMULtEf8ryw",
        "outputId": "b5d0e446-a7bc-47b3-a2c5-17748b4a27de"
      },
      "outputs": [],
      "source": [
        "tokenizer = get_chat_template(\n",
        "    tokenizer,\n",
        "    chat_template = \"gemma\", # Supports zephyr, chatml, mistral, llama, alpaca, vicuna, vicuna_old, unsloth\n",
        "    mapping = {\"role\" : \"from\", \"content\" : \"value\", \"user\" : \"human\", \"assistant\" : \"gpt\"},\n",
        ")\n",
        "\n",
        "def formatting_prompts_func(examples):\n",
        "    convos = examples[\"conversations\"]\n",
        "    texts = [tokenizer.apply_chat_template(convo, tokenize = False, add_generation_prompt = False) for convo in convos]\n",
        "    return { \"text\" : texts, }\n",
        "pass"
      ]
    },
    {
      "cell_type": "markdown",
      "metadata": {},
      "source": [
        "## Data Preparation"
      ]
    },
    {
      "cell_type": "code",
      "execution_count": null,
      "metadata": {
        "colab": {
          "base_uri": "https://localhost:8080/",
          "height": 49,
          "referenced_widgets": [
            "7ddfb5f3b760417cbec074ddc2f8515b",
            "62133b37af07407d9314f30b836e82d1",
            "78c7e6da4d7b4efd94679631e84e734c",
            "a3e8611748304d77a9369ac7d3f371cf",
            "0b34fea91b47494ea2a3a34c87b818ec",
            "7dbb2599ed594d0eaf38af245506bc9a",
            "c8909eade7d94561b3e0842a392fa7db",
            "f0e79cb70b834aad94e32f8bff2db0a8",
            "b4c15b1782024061b299fc8e4b53cee4",
            "5b6fe112852c477d8b9a1c834735c84e",
            "7d77255b874841a8bd0c492544cf878b"
          ]
        },
        "id": "2xWLvaRgPUk9",
        "outputId": "23c6a2b0-460d-43c0-cfc4-0506da84cd90"
      },
      "outputs": [],
      "source": [
        "test_dataset = Dataset.from_pandas(test_dataset)\n",
        "\n",
        "test_dataset = test_dataset.map(formatting_prompts_func, batched = True,)"
      ]
    },
    {
      "cell_type": "markdown",
      "metadata": {},
      "source": [
        "##### The function `mapped_data_analysis` analyses the mapped dataset by displaying its structure, descriptive statistics, and category counts."
      ]
    },
    {
      "cell_type": "code",
      "execution_count": null,
      "metadata": {
        "id": "kVnfuf9RQyLa"
      },
      "outputs": [],
      "source": [
        "def mapped_data_analysis(dataset, name):\n",
        "    print(f\"{name} Dataset Analysis:\\n\")\n",
        "    df = dataset.to_pandas()\n",
        "    df.info()\n",
        "    print(f\"\\nDescriptive Statistics:\\n\", df.describe(include='all'))\n",
        "    print(f\"\\n'simplified_label' Category Counts:\\n\", df['simplified_label'].value_counts())\n",
        "    print(\"-\" * 50)"
      ]
    },
    {
      "cell_type": "code",
      "execution_count": null,
      "metadata": {
        "colab": {
          "base_uri": "https://localhost:8080/"
        },
        "id": "h-R5-SgUp-Sk",
        "outputId": "c0928f99-7ed9-4cbd-b54b-80160bd38ada"
      },
      "outputs": [],
      "source": [
        "mapped_data_analysis(test_dataset, \"Test\")"
      ]
    },
    {
      "cell_type": "code",
      "execution_count": null,
      "metadata": {
        "colab": {
          "base_uri": "https://localhost:8080/",
          "height": 424
        },
        "id": "Z3c64Pw-cofJ",
        "outputId": "57a18648-378c-4edf-97c8-50a9f6bd7e0f"
      },
      "outputs": [],
      "source": [
        "# Convert the test dataset to a pandas DataFrame\n",
        "test_dataset_converted = test_dataset.to_pandas()\n",
        "\n",
        "test_dataset_converted"
      ]
    },
    {
      "cell_type": "code",
      "execution_count": null,
      "metadata": {
        "colab": {
          "base_uri": "https://localhost:8080/",
          "height": 35
        },
        "id": "-oAxSRO2LOjD",
        "outputId": "be6dd910-ca7a-4484-a764-049ea98dcac7"
      },
      "outputs": [],
      "source": [
        "prompt = test_dataset_converted['text'].loc[len(test_dataset)-1]\n",
        "\n",
        "prompt"
      ]
    },
    {
      "cell_type": "markdown",
      "metadata": {},
      "source": [
        "## Model Inference"
      ]
    },
    {
      "cell_type": "code",
      "execution_count": null,
      "metadata": {
        "collapsed": true,
        "id": "RGOBC_myyS79"
      },
      "outputs": [],
      "source": [
        "# Prepares the model for inference by setting it to inference mode\n",
        "FastLanguageModel.for_inference(model);"
      ]
    },
    {
      "cell_type": "code",
      "execution_count": null,
      "metadata": {
        "id": "anmQ-wb7yVgF"
      },
      "outputs": [],
      "source": [
        "# Tokenize the input prompt and convert it into a format suitable for the model.\n",
        "inputs = tokenizer(prompt, return_tensors=\"pt\").to(\"cuda\")"
      ]
    },
    {
      "cell_type": "code",
      "execution_count": null,
      "metadata": {
        "id": "ZCgVgF7tyXoe"
      },
      "outputs": [],
      "source": [
        "# Generate test output from the model using the tokenized input.\n",
        "outputs = model.generate(**inputs, max_new_tokens=100, use_cache=True)\n",
        "\n",
        "# Decode the generated tokens into a human-readable string, skipping special tokens.\n",
        "text_output = tokenizer.batch_decode(outputs, skip_special_tokens=True)[0]\n",
        "text_output"
      ]
    },
    {
      "cell_type": "markdown",
      "metadata": {},
      "source": [
        "##### The function `extract_relationship_label` identifies and extracts the relationship label from the output returned by model."
      ]
    },
    {
      "cell_type": "code",
      "execution_count": null,
      "metadata": {
        "id": "ffNt1pOn92Z1"
      },
      "outputs": [],
      "source": [
        "def extract_relationship_label(text):\n",
        "  if prompt_in_use == prompt_template:\n",
        "    words = [\"broader\", \"narrower\", \"same-as\", \"other\"]\n",
        "\n",
        "    for word in words:\n",
        "      if re.search(r\"\\b\" + re.escape(word) + r\"\\b\", text, re.IGNORECASE):\n",
        "        return word\n",
        "\n",
        "  else: return \"Relation not found!\""
      ]
    },
    {
      "cell_type": "code",
      "execution_count": null,
      "metadata": {
        "id": "JQbT75sp0Dj5"
      },
      "outputs": [],
      "source": [
        "relationship_label = extract_relationship_label(text_output)\n",
        "print(relationship_label)"
      ]
    },
    {
      "cell_type": "markdown",
      "metadata": {},
      "source": [
        "##### The function `get_relationship` performs inference on a single data point, extracting the complete output and predicted relationship label."
      ]
    },
    {
      "cell_type": "code",
      "execution_count": null,
      "metadata": {
        "id": "VrNFdWYmJXcx"
      },
      "outputs": [],
      "source": [
        "def get_relationship(data_point,model,tokenizer):\n",
        "\n",
        "    FastLanguageModel.for_inference(model)\n",
        "\n",
        "    inputs = tokenizer(data_point['text'], return_tensors=\"pt\").to(\"cuda\")\n",
        "\n",
        "    outputs = model.generate(**inputs, max_new_tokens=100, use_cache=True)\n",
        "    text_output = tokenizer.batch_decode(outputs, skip_special_tokens=True)[0]\n",
        "    data_point['complete_output'] = text_output\n",
        "    data_point['predicted_label'] = extract_relationship_label(text_output)\n",
        "\n",
        "    return data_point"
      ]
    },
    {
      "cell_type": "code",
      "execution_count": null,
      "metadata": {
        "colab": {
          "base_uri": "https://localhost:8080/"
        },
        "id": "1fYzlGdq5-h-",
        "outputId": "0c3bda55-8522-42e9-f542-813c11b3717b"
      },
      "outputs": [],
      "source": [
        "# Apply the `get_relationship` function to each row of the `test_dataset_converted` DataFrame.\n",
        "test_dataset_converted = test_dataset_converted.apply(lambda row: get_relationship(row, model, tokenizer), axis=1)\n",
        "\n",
        "print(f\"Inference for {model_name} is completed.\")\n",
        "\n",
        "# Uncomment the line below to send a notification via Telegram when the inference process is completed.\n",
        "# notify(f\"Inference for {model_name} is completed.\") "
      ]
    },
    {
      "cell_type": "code",
      "execution_count": null,
      "metadata": {
        "colab": {
          "base_uri": "https://localhost:8080/",
          "height": 424
        },
        "id": "1WSGgdBEK_OQ",
        "outputId": "5ac872ee-3fc4-4795-d96c-79590a903da7"
      },
      "outputs": [],
      "source": [
        "test_dataset_converted"
      ]
    },
    {
      "cell_type": "markdown",
      "metadata": {},
      "source": [
        "## Save Output"
      ]
    },
    {
      "cell_type": "code",
      "execution_count": null,
      "metadata": {
        "id": "gy1TYaBTpHqg"
      },
      "outputs": [],
      "source": [
        "run_type = \"IEEE-Rel-3K\""
      ]
    },
    {
      "cell_type": "code",
      "execution_count": null,
      "metadata": {
        "colab": {
          "base_uri": "https://localhost:8080/"
        },
        "id": "knHtqS95Ar3o",
        "outputId": "72dc02fc-9de8-42d0-f26a-24c776f52e37"
      },
      "outputs": [],
      "source": [
        "file_name = f\"{run_type}-{datetime.now().strftime('%Y-%m-%d-%H-%M')}\"\n",
        "print(file_name)"
      ]
    },
    {
      "cell_type": "code",
      "execution_count": null,
      "metadata": {
        "id": "nU6lrxM-LCgC"
      },
      "outputs": [],
      "source": [
        "test_dataset_converted.to_csv(f'../results/{file_name}.csv', index=False)"
      ]
    }
  ],
  "metadata": {
    "accelerator": "GPU",
    "colab": {
      "gpuType": "L4",
      "machine_shape": "hm",
      "provenance": []
    },
    "kernelspec": {
      "display_name": "Python 3",
      "name": "python3"
    },
    "language_info": {
      "name": "python"
    },
    "widgets": {
      "application/vnd.jupyter.widget-state+json": {
        "0b34fea91b47494ea2a3a34c87b818ec": {
          "model_module": "@jupyter-widgets/base",
          "model_module_version": "1.2.0",
          "model_name": "LayoutModel",
          "state": {
            "_model_module": "@jupyter-widgets/base",
            "_model_module_version": "1.2.0",
            "_model_name": "LayoutModel",
            "_view_count": null,
            "_view_module": "@jupyter-widgets/base",
            "_view_module_version": "1.2.0",
            "_view_name": "LayoutView",
            "align_content": null,
            "align_items": null,
            "align_self": null,
            "border": null,
            "bottom": null,
            "display": null,
            "flex": null,
            "flex_flow": null,
            "grid_area": null,
            "grid_auto_columns": null,
            "grid_auto_flow": null,
            "grid_auto_rows": null,
            "grid_column": null,
            "grid_gap": null,
            "grid_row": null,
            "grid_template_areas": null,
            "grid_template_columns": null,
            "grid_template_rows": null,
            "height": null,
            "justify_content": null,
            "justify_items": null,
            "left": null,
            "margin": null,
            "max_height": null,
            "max_width": null,
            "min_height": null,
            "min_width": null,
            "object_fit": null,
            "object_position": null,
            "order": null,
            "overflow": null,
            "overflow_x": null,
            "overflow_y": null,
            "padding": null,
            "right": null,
            "top": null,
            "visibility": null,
            "width": null
          }
        },
        "10867ecb85ac40aa854caf2821efdb86": {
          "model_module": "@jupyter-widgets/controls",
          "model_module_version": "1.5.0",
          "model_name": "ProgressStyleModel",
          "state": {
            "_model_module": "@jupyter-widgets/controls",
            "_model_module_version": "1.5.0",
            "_model_name": "ProgressStyleModel",
            "_view_count": null,
            "_view_module": "@jupyter-widgets/base",
            "_view_module_version": "1.2.0",
            "_view_name": "StyleView",
            "bar_color": null,
            "description_width": ""
          }
        },
        "174c7536e0644832aa37c48d5416bba2": {
          "model_module": "@jupyter-widgets/controls",
          "model_module_version": "1.5.0",
          "model_name": "HTMLModel",
          "state": {
            "_dom_classes": [],
            "_model_module": "@jupyter-widgets/controls",
            "_model_module_version": "1.5.0",
            "_model_name": "HTMLModel",
            "_view_count": null,
            "_view_module": "@jupyter-widgets/controls",
            "_view_module_version": "1.5.0",
            "_view_name": "HTMLView",
            "description": "",
            "description_tooltip": null,
            "layout": "IPY_MODEL_25211a38396a432b94eaa19b472d19a4",
            "placeholder": "​",
            "style": "IPY_MODEL_93b01995b5b14fcdae3ad4b29f2dddca",
            "value": "generation_config.json: 100%"
          }
        },
        "18022d42f76a4825a19922f4155e7257": {
          "model_module": "@jupyter-widgets/controls",
          "model_module_version": "1.5.0",
          "model_name": "FloatProgressModel",
          "state": {
            "_dom_classes": [],
            "_model_module": "@jupyter-widgets/controls",
            "_model_module_version": "1.5.0",
            "_model_name": "FloatProgressModel",
            "_view_count": null,
            "_view_module": "@jupyter-widgets/controls",
            "_view_module_version": "1.5.0",
            "_view_name": "ProgressView",
            "bar_style": "success",
            "description": "",
            "description_tooltip": null,
            "layout": "IPY_MODEL_a964a312ceda46a88f5b4a4e74893105",
            "max": 209,
            "min": 0,
            "orientation": "horizontal",
            "style": "IPY_MODEL_8f319d7b4228415198a0beb1ba9d077c",
            "value": 209
          }
        },
        "25211a38396a432b94eaa19b472d19a4": {
          "model_module": "@jupyter-widgets/base",
          "model_module_version": "1.2.0",
          "model_name": "LayoutModel",
          "state": {
            "_model_module": "@jupyter-widgets/base",
            "_model_module_version": "1.2.0",
            "_model_name": "LayoutModel",
            "_view_count": null,
            "_view_module": "@jupyter-widgets/base",
            "_view_module_version": "1.2.0",
            "_view_name": "LayoutView",
            "align_content": null,
            "align_items": null,
            "align_self": null,
            "border": null,
            "bottom": null,
            "display": null,
            "flex": null,
            "flex_flow": null,
            "grid_area": null,
            "grid_auto_columns": null,
            "grid_auto_flow": null,
            "grid_auto_rows": null,
            "grid_column": null,
            "grid_gap": null,
            "grid_row": null,
            "grid_template_areas": null,
            "grid_template_columns": null,
            "grid_template_rows": null,
            "height": null,
            "justify_content": null,
            "justify_items": null,
            "left": null,
            "margin": null,
            "max_height": null,
            "max_width": null,
            "min_height": null,
            "min_width": null,
            "object_fit": null,
            "object_position": null,
            "order": null,
            "overflow": null,
            "overflow_x": null,
            "overflow_y": null,
            "padding": null,
            "right": null,
            "top": null,
            "visibility": null,
            "width": null
          }
        },
        "31f067fecb064968913f93f483985ef5": {
          "model_module": "@jupyter-widgets/controls",
          "model_module_version": "1.5.0",
          "model_name": "HBoxModel",
          "state": {
            "_dom_classes": [],
            "_model_module": "@jupyter-widgets/controls",
            "_model_module_version": "1.5.0",
            "_model_name": "HBoxModel",
            "_view_count": null,
            "_view_module": "@jupyter-widgets/controls",
            "_view_module_version": "1.5.0",
            "_view_name": "HBoxView",
            "box_style": "",
            "children": [
              "IPY_MODEL_46532f74979a4bdba50d74aac8e49ebf",
              "IPY_MODEL_9b29e0f0f4494dbab0a3be02bcbadf11",
              "IPY_MODEL_45d400368eac4a4fa0ef09f3bc4653d2"
            ],
            "layout": "IPY_MODEL_7051386007b344c4a429f5d57ced4c26"
          }
        },
        "45d400368eac4a4fa0ef09f3bc4653d2": {
          "model_module": "@jupyter-widgets/controls",
          "model_module_version": "1.5.0",
          "model_name": "HTMLModel",
          "state": {
            "_dom_classes": [],
            "_model_module": "@jupyter-widgets/controls",
            "_model_module_version": "1.5.0",
            "_model_name": "HTMLModel",
            "_view_count": null,
            "_view_module": "@jupyter-widgets/controls",
            "_view_module_version": "1.5.0",
            "_view_name": "HTMLView",
            "description": "",
            "description_tooltip": null,
            "layout": "IPY_MODEL_dab21024f1254bc1bd880613a72f0469",
            "placeholder": "​",
            "style": "IPY_MODEL_7bab07a8efbc41b982f9614831aec9cd",
            "value": " 2.22G/2.22G [00:56&lt;00:00, 38.6MB/s]"
          }
        },
        "46532f74979a4bdba50d74aac8e49ebf": {
          "model_module": "@jupyter-widgets/controls",
          "model_module_version": "1.5.0",
          "model_name": "HTMLModel",
          "state": {
            "_dom_classes": [],
            "_model_module": "@jupyter-widgets/controls",
            "_model_module_version": "1.5.0",
            "_model_name": "HTMLModel",
            "_view_count": null,
            "_view_module": "@jupyter-widgets/controls",
            "_view_module_version": "1.5.0",
            "_view_name": "HTMLView",
            "description": "",
            "description_tooltip": null,
            "layout": "IPY_MODEL_bdd68b9eb7fe4dd99baff1b0b08ca0e6",
            "placeholder": "​",
            "style": "IPY_MODEL_a7d6b25e0fc245eea7aa8b2704a44ae8",
            "value": "model.safetensors: 100%"
          }
        },
        "48eee1c1a2a34c56adf1fc5b5cd7e15e": {
          "model_module": "@jupyter-widgets/controls",
          "model_module_version": "1.5.0",
          "model_name": "HTMLModel",
          "state": {
            "_dom_classes": [],
            "_model_module": "@jupyter-widgets/controls",
            "_model_module_version": "1.5.0",
            "_model_name": "HTMLModel",
            "_view_count": null,
            "_view_module": "@jupyter-widgets/controls",
            "_view_module_version": "1.5.0",
            "_view_name": "HTMLView",
            "description": "",
            "description_tooltip": null,
            "layout": "IPY_MODEL_62a122154ad34d108d4b26273054a88c",
            "placeholder": "​",
            "style": "IPY_MODEL_8b3cd1ef06e84c7aa0d24e2202a0de1e",
            "value": " 209/209 [00:00&lt;00:00, 17.6kB/s]"
          }
        },
        "5b6fe112852c477d8b9a1c834735c84e": {
          "model_module": "@jupyter-widgets/base",
          "model_module_version": "1.2.0",
          "model_name": "LayoutModel",
          "state": {
            "_model_module": "@jupyter-widgets/base",
            "_model_module_version": "1.2.0",
            "_model_name": "LayoutModel",
            "_view_count": null,
            "_view_module": "@jupyter-widgets/base",
            "_view_module_version": "1.2.0",
            "_view_name": "LayoutView",
            "align_content": null,
            "align_items": null,
            "align_self": null,
            "border": null,
            "bottom": null,
            "display": null,
            "flex": null,
            "flex_flow": null,
            "grid_area": null,
            "grid_auto_columns": null,
            "grid_auto_flow": null,
            "grid_auto_rows": null,
            "grid_column": null,
            "grid_gap": null,
            "grid_row": null,
            "grid_template_areas": null,
            "grid_template_columns": null,
            "grid_template_rows": null,
            "height": null,
            "justify_content": null,
            "justify_items": null,
            "left": null,
            "margin": null,
            "max_height": null,
            "max_width": null,
            "min_height": null,
            "min_width": null,
            "object_fit": null,
            "object_position": null,
            "order": null,
            "overflow": null,
            "overflow_x": null,
            "overflow_y": null,
            "padding": null,
            "right": null,
            "top": null,
            "visibility": null,
            "width": null
          }
        },
        "5de8d23accd54dd69cb3b25bd0042b7c": {
          "model_module": "@jupyter-widgets/controls",
          "model_module_version": "1.5.0",
          "model_name": "HBoxModel",
          "state": {
            "_dom_classes": [],
            "_model_module": "@jupyter-widgets/controls",
            "_model_module_version": "1.5.0",
            "_model_name": "HBoxModel",
            "_view_count": null,
            "_view_module": "@jupyter-widgets/controls",
            "_view_module_version": "1.5.0",
            "_view_name": "HBoxView",
            "box_style": "",
            "children": [
              "IPY_MODEL_174c7536e0644832aa37c48d5416bba2",
              "IPY_MODEL_18022d42f76a4825a19922f4155e7257",
              "IPY_MODEL_48eee1c1a2a34c56adf1fc5b5cd7e15e"
            ],
            "layout": "IPY_MODEL_88047913bf514379be3b0bd02bb45162"
          }
        },
        "62133b37af07407d9314f30b836e82d1": {
          "model_module": "@jupyter-widgets/controls",
          "model_module_version": "1.5.0",
          "model_name": "HTMLModel",
          "state": {
            "_dom_classes": [],
            "_model_module": "@jupyter-widgets/controls",
            "_model_module_version": "1.5.0",
            "_model_name": "HTMLModel",
            "_view_count": null,
            "_view_module": "@jupyter-widgets/controls",
            "_view_module_version": "1.5.0",
            "_view_name": "HTMLView",
            "description": "",
            "description_tooltip": null,
            "layout": "IPY_MODEL_7dbb2599ed594d0eaf38af245506bc9a",
            "placeholder": "​",
            "style": "IPY_MODEL_c8909eade7d94561b3e0842a392fa7db",
            "value": "Map: 100%"
          }
        },
        "62a122154ad34d108d4b26273054a88c": {
          "model_module": "@jupyter-widgets/base",
          "model_module_version": "1.2.0",
          "model_name": "LayoutModel",
          "state": {
            "_model_module": "@jupyter-widgets/base",
            "_model_module_version": "1.2.0",
            "_model_name": "LayoutModel",
            "_view_count": null,
            "_view_module": "@jupyter-widgets/base",
            "_view_module_version": "1.2.0",
            "_view_name": "LayoutView",
            "align_content": null,
            "align_items": null,
            "align_self": null,
            "border": null,
            "bottom": null,
            "display": null,
            "flex": null,
            "flex_flow": null,
            "grid_area": null,
            "grid_auto_columns": null,
            "grid_auto_flow": null,
            "grid_auto_rows": null,
            "grid_column": null,
            "grid_gap": null,
            "grid_row": null,
            "grid_template_areas": null,
            "grid_template_columns": null,
            "grid_template_rows": null,
            "height": null,
            "justify_content": null,
            "justify_items": null,
            "left": null,
            "margin": null,
            "max_height": null,
            "max_width": null,
            "min_height": null,
            "min_width": null,
            "object_fit": null,
            "object_position": null,
            "order": null,
            "overflow": null,
            "overflow_x": null,
            "overflow_y": null,
            "padding": null,
            "right": null,
            "top": null,
            "visibility": null,
            "width": null
          }
        },
        "7051386007b344c4a429f5d57ced4c26": {
          "model_module": "@jupyter-widgets/base",
          "model_module_version": "1.2.0",
          "model_name": "LayoutModel",
          "state": {
            "_model_module": "@jupyter-widgets/base",
            "_model_module_version": "1.2.0",
            "_model_name": "LayoutModel",
            "_view_count": null,
            "_view_module": "@jupyter-widgets/base",
            "_view_module_version": "1.2.0",
            "_view_name": "LayoutView",
            "align_content": null,
            "align_items": null,
            "align_self": null,
            "border": null,
            "bottom": null,
            "display": null,
            "flex": null,
            "flex_flow": null,
            "grid_area": null,
            "grid_auto_columns": null,
            "grid_auto_flow": null,
            "grid_auto_rows": null,
            "grid_column": null,
            "grid_gap": null,
            "grid_row": null,
            "grid_template_areas": null,
            "grid_template_columns": null,
            "grid_template_rows": null,
            "height": null,
            "justify_content": null,
            "justify_items": null,
            "left": null,
            "margin": null,
            "max_height": null,
            "max_width": null,
            "min_height": null,
            "min_width": null,
            "object_fit": null,
            "object_position": null,
            "order": null,
            "overflow": null,
            "overflow_x": null,
            "overflow_y": null,
            "padding": null,
            "right": null,
            "top": null,
            "visibility": null,
            "width": null
          }
        },
        "78c7e6da4d7b4efd94679631e84e734c": {
          "model_module": "@jupyter-widgets/controls",
          "model_module_version": "1.5.0",
          "model_name": "FloatProgressModel",
          "state": {
            "_dom_classes": [],
            "_model_module": "@jupyter-widgets/controls",
            "_model_module_version": "1.5.0",
            "_model_name": "FloatProgressModel",
            "_view_count": null,
            "_view_module": "@jupyter-widgets/controls",
            "_view_module_version": "1.5.0",
            "_view_name": "ProgressView",
            "bar_style": "success",
            "description": "",
            "description_tooltip": null,
            "layout": "IPY_MODEL_f0e79cb70b834aad94e32f8bff2db0a8",
            "max": 175,
            "min": 0,
            "orientation": "horizontal",
            "style": "IPY_MODEL_b4c15b1782024061b299fc8e4b53cee4",
            "value": 175
          }
        },
        "7bab07a8efbc41b982f9614831aec9cd": {
          "model_module": "@jupyter-widgets/controls",
          "model_module_version": "1.5.0",
          "model_name": "DescriptionStyleModel",
          "state": {
            "_model_module": "@jupyter-widgets/controls",
            "_model_module_version": "1.5.0",
            "_model_name": "DescriptionStyleModel",
            "_view_count": null,
            "_view_module": "@jupyter-widgets/base",
            "_view_module_version": "1.2.0",
            "_view_name": "StyleView",
            "description_width": ""
          }
        },
        "7d77255b874841a8bd0c492544cf878b": {
          "model_module": "@jupyter-widgets/controls",
          "model_module_version": "1.5.0",
          "model_name": "DescriptionStyleModel",
          "state": {
            "_model_module": "@jupyter-widgets/controls",
            "_model_module_version": "1.5.0",
            "_model_name": "DescriptionStyleModel",
            "_view_count": null,
            "_view_module": "@jupyter-widgets/base",
            "_view_module_version": "1.2.0",
            "_view_name": "StyleView",
            "description_width": ""
          }
        },
        "7dbb2599ed594d0eaf38af245506bc9a": {
          "model_module": "@jupyter-widgets/base",
          "model_module_version": "1.2.0",
          "model_name": "LayoutModel",
          "state": {
            "_model_module": "@jupyter-widgets/base",
            "_model_module_version": "1.2.0",
            "_model_name": "LayoutModel",
            "_view_count": null,
            "_view_module": "@jupyter-widgets/base",
            "_view_module_version": "1.2.0",
            "_view_name": "LayoutView",
            "align_content": null,
            "align_items": null,
            "align_self": null,
            "border": null,
            "bottom": null,
            "display": null,
            "flex": null,
            "flex_flow": null,
            "grid_area": null,
            "grid_auto_columns": null,
            "grid_auto_flow": null,
            "grid_auto_rows": null,
            "grid_column": null,
            "grid_gap": null,
            "grid_row": null,
            "grid_template_areas": null,
            "grid_template_columns": null,
            "grid_template_rows": null,
            "height": null,
            "justify_content": null,
            "justify_items": null,
            "left": null,
            "margin": null,
            "max_height": null,
            "max_width": null,
            "min_height": null,
            "min_width": null,
            "object_fit": null,
            "object_position": null,
            "order": null,
            "overflow": null,
            "overflow_x": null,
            "overflow_y": null,
            "padding": null,
            "right": null,
            "top": null,
            "visibility": null,
            "width": null
          }
        },
        "7ddfb5f3b760417cbec074ddc2f8515b": {
          "model_module": "@jupyter-widgets/controls",
          "model_module_version": "1.5.0",
          "model_name": "HBoxModel",
          "state": {
            "_dom_classes": [],
            "_model_module": "@jupyter-widgets/controls",
            "_model_module_version": "1.5.0",
            "_model_name": "HBoxModel",
            "_view_count": null,
            "_view_module": "@jupyter-widgets/controls",
            "_view_module_version": "1.5.0",
            "_view_name": "HBoxView",
            "box_style": "",
            "children": [
              "IPY_MODEL_62133b37af07407d9314f30b836e82d1",
              "IPY_MODEL_78c7e6da4d7b4efd94679631e84e734c",
              "IPY_MODEL_a3e8611748304d77a9369ac7d3f371cf"
            ],
            "layout": "IPY_MODEL_0b34fea91b47494ea2a3a34c87b818ec"
          }
        },
        "88047913bf514379be3b0bd02bb45162": {
          "model_module": "@jupyter-widgets/base",
          "model_module_version": "1.2.0",
          "model_name": "LayoutModel",
          "state": {
            "_model_module": "@jupyter-widgets/base",
            "_model_module_version": "1.2.0",
            "_model_name": "LayoutModel",
            "_view_count": null,
            "_view_module": "@jupyter-widgets/base",
            "_view_module_version": "1.2.0",
            "_view_name": "LayoutView",
            "align_content": null,
            "align_items": null,
            "align_self": null,
            "border": null,
            "bottom": null,
            "display": null,
            "flex": null,
            "flex_flow": null,
            "grid_area": null,
            "grid_auto_columns": null,
            "grid_auto_flow": null,
            "grid_auto_rows": null,
            "grid_column": null,
            "grid_gap": null,
            "grid_row": null,
            "grid_template_areas": null,
            "grid_template_columns": null,
            "grid_template_rows": null,
            "height": null,
            "justify_content": null,
            "justify_items": null,
            "left": null,
            "margin": null,
            "max_height": null,
            "max_width": null,
            "min_height": null,
            "min_width": null,
            "object_fit": null,
            "object_position": null,
            "order": null,
            "overflow": null,
            "overflow_x": null,
            "overflow_y": null,
            "padding": null,
            "right": null,
            "top": null,
            "visibility": null,
            "width": null
          }
        },
        "8b3cd1ef06e84c7aa0d24e2202a0de1e": {
          "model_module": "@jupyter-widgets/controls",
          "model_module_version": "1.5.0",
          "model_name": "DescriptionStyleModel",
          "state": {
            "_model_module": "@jupyter-widgets/controls",
            "_model_module_version": "1.5.0",
            "_model_name": "DescriptionStyleModel",
            "_view_count": null,
            "_view_module": "@jupyter-widgets/base",
            "_view_module_version": "1.2.0",
            "_view_name": "StyleView",
            "description_width": ""
          }
        },
        "8f319d7b4228415198a0beb1ba9d077c": {
          "model_module": "@jupyter-widgets/controls",
          "model_module_version": "1.5.0",
          "model_name": "ProgressStyleModel",
          "state": {
            "_model_module": "@jupyter-widgets/controls",
            "_model_module_version": "1.5.0",
            "_model_name": "ProgressStyleModel",
            "_view_count": null,
            "_view_module": "@jupyter-widgets/base",
            "_view_module_version": "1.2.0",
            "_view_name": "StyleView",
            "bar_color": null,
            "description_width": ""
          }
        },
        "93b01995b5b14fcdae3ad4b29f2dddca": {
          "model_module": "@jupyter-widgets/controls",
          "model_module_version": "1.5.0",
          "model_name": "DescriptionStyleModel",
          "state": {
            "_model_module": "@jupyter-widgets/controls",
            "_model_module_version": "1.5.0",
            "_model_name": "DescriptionStyleModel",
            "_view_count": null,
            "_view_module": "@jupyter-widgets/base",
            "_view_module_version": "1.2.0",
            "_view_name": "StyleView",
            "description_width": ""
          }
        },
        "9b29e0f0f4494dbab0a3be02bcbadf11": {
          "model_module": "@jupyter-widgets/controls",
          "model_module_version": "1.5.0",
          "model_name": "FloatProgressModel",
          "state": {
            "_dom_classes": [],
            "_model_module": "@jupyter-widgets/controls",
            "_model_module_version": "1.5.0",
            "_model_name": "FloatProgressModel",
            "_view_count": null,
            "_view_module": "@jupyter-widgets/controls",
            "_view_module_version": "1.5.0",
            "_view_name": "ProgressView",
            "bar_style": "success",
            "description": "",
            "description_tooltip": null,
            "layout": "IPY_MODEL_a5f38c2534e04224a1893630296efb56",
            "max": 2224765114,
            "min": 0,
            "orientation": "horizontal",
            "style": "IPY_MODEL_10867ecb85ac40aa854caf2821efdb86",
            "value": 2224765114
          }
        },
        "a3e8611748304d77a9369ac7d3f371cf": {
          "model_module": "@jupyter-widgets/controls",
          "model_module_version": "1.5.0",
          "model_name": "HTMLModel",
          "state": {
            "_dom_classes": [],
            "_model_module": "@jupyter-widgets/controls",
            "_model_module_version": "1.5.0",
            "_model_name": "HTMLModel",
            "_view_count": null,
            "_view_module": "@jupyter-widgets/controls",
            "_view_module_version": "1.5.0",
            "_view_name": "HTMLView",
            "description": "",
            "description_tooltip": null,
            "layout": "IPY_MODEL_5b6fe112852c477d8b9a1c834735c84e",
            "placeholder": "​",
            "style": "IPY_MODEL_7d77255b874841a8bd0c492544cf878b",
            "value": " 175/175 [00:00&lt;00:00, 4191.67 examples/s]"
          }
        },
        "a5f38c2534e04224a1893630296efb56": {
          "model_module": "@jupyter-widgets/base",
          "model_module_version": "1.2.0",
          "model_name": "LayoutModel",
          "state": {
            "_model_module": "@jupyter-widgets/base",
            "_model_module_version": "1.2.0",
            "_model_name": "LayoutModel",
            "_view_count": null,
            "_view_module": "@jupyter-widgets/base",
            "_view_module_version": "1.2.0",
            "_view_name": "LayoutView",
            "align_content": null,
            "align_items": null,
            "align_self": null,
            "border": null,
            "bottom": null,
            "display": null,
            "flex": null,
            "flex_flow": null,
            "grid_area": null,
            "grid_auto_columns": null,
            "grid_auto_flow": null,
            "grid_auto_rows": null,
            "grid_column": null,
            "grid_gap": null,
            "grid_row": null,
            "grid_template_areas": null,
            "grid_template_columns": null,
            "grid_template_rows": null,
            "height": null,
            "justify_content": null,
            "justify_items": null,
            "left": null,
            "margin": null,
            "max_height": null,
            "max_width": null,
            "min_height": null,
            "min_width": null,
            "object_fit": null,
            "object_position": null,
            "order": null,
            "overflow": null,
            "overflow_x": null,
            "overflow_y": null,
            "padding": null,
            "right": null,
            "top": null,
            "visibility": null,
            "width": null
          }
        },
        "a7d6b25e0fc245eea7aa8b2704a44ae8": {
          "model_module": "@jupyter-widgets/controls",
          "model_module_version": "1.5.0",
          "model_name": "DescriptionStyleModel",
          "state": {
            "_model_module": "@jupyter-widgets/controls",
            "_model_module_version": "1.5.0",
            "_model_name": "DescriptionStyleModel",
            "_view_count": null,
            "_view_module": "@jupyter-widgets/base",
            "_view_module_version": "1.2.0",
            "_view_name": "StyleView",
            "description_width": ""
          }
        },
        "a964a312ceda46a88f5b4a4e74893105": {
          "model_module": "@jupyter-widgets/base",
          "model_module_version": "1.2.0",
          "model_name": "LayoutModel",
          "state": {
            "_model_module": "@jupyter-widgets/base",
            "_model_module_version": "1.2.0",
            "_model_name": "LayoutModel",
            "_view_count": null,
            "_view_module": "@jupyter-widgets/base",
            "_view_module_version": "1.2.0",
            "_view_name": "LayoutView",
            "align_content": null,
            "align_items": null,
            "align_self": null,
            "border": null,
            "bottom": null,
            "display": null,
            "flex": null,
            "flex_flow": null,
            "grid_area": null,
            "grid_auto_columns": null,
            "grid_auto_flow": null,
            "grid_auto_rows": null,
            "grid_column": null,
            "grid_gap": null,
            "grid_row": null,
            "grid_template_areas": null,
            "grid_template_columns": null,
            "grid_template_rows": null,
            "height": null,
            "justify_content": null,
            "justify_items": null,
            "left": null,
            "margin": null,
            "max_height": null,
            "max_width": null,
            "min_height": null,
            "min_width": null,
            "object_fit": null,
            "object_position": null,
            "order": null,
            "overflow": null,
            "overflow_x": null,
            "overflow_y": null,
            "padding": null,
            "right": null,
            "top": null,
            "visibility": null,
            "width": null
          }
        },
        "b4c15b1782024061b299fc8e4b53cee4": {
          "model_module": "@jupyter-widgets/controls",
          "model_module_version": "1.5.0",
          "model_name": "ProgressStyleModel",
          "state": {
            "_model_module": "@jupyter-widgets/controls",
            "_model_module_version": "1.5.0",
            "_model_name": "ProgressStyleModel",
            "_view_count": null,
            "_view_module": "@jupyter-widgets/base",
            "_view_module_version": "1.2.0",
            "_view_name": "StyleView",
            "bar_color": null,
            "description_width": ""
          }
        },
        "bdd68b9eb7fe4dd99baff1b0b08ca0e6": {
          "model_module": "@jupyter-widgets/base",
          "model_module_version": "1.2.0",
          "model_name": "LayoutModel",
          "state": {
            "_model_module": "@jupyter-widgets/base",
            "_model_module_version": "1.2.0",
            "_model_name": "LayoutModel",
            "_view_count": null,
            "_view_module": "@jupyter-widgets/base",
            "_view_module_version": "1.2.0",
            "_view_name": "LayoutView",
            "align_content": null,
            "align_items": null,
            "align_self": null,
            "border": null,
            "bottom": null,
            "display": null,
            "flex": null,
            "flex_flow": null,
            "grid_area": null,
            "grid_auto_columns": null,
            "grid_auto_flow": null,
            "grid_auto_rows": null,
            "grid_column": null,
            "grid_gap": null,
            "grid_row": null,
            "grid_template_areas": null,
            "grid_template_columns": null,
            "grid_template_rows": null,
            "height": null,
            "justify_content": null,
            "justify_items": null,
            "left": null,
            "margin": null,
            "max_height": null,
            "max_width": null,
            "min_height": null,
            "min_width": null,
            "object_fit": null,
            "object_position": null,
            "order": null,
            "overflow": null,
            "overflow_x": null,
            "overflow_y": null,
            "padding": null,
            "right": null,
            "top": null,
            "visibility": null,
            "width": null
          }
        },
        "c8909eade7d94561b3e0842a392fa7db": {
          "model_module": "@jupyter-widgets/controls",
          "model_module_version": "1.5.0",
          "model_name": "DescriptionStyleModel",
          "state": {
            "_model_module": "@jupyter-widgets/controls",
            "_model_module_version": "1.5.0",
            "_model_name": "DescriptionStyleModel",
            "_view_count": null,
            "_view_module": "@jupyter-widgets/base",
            "_view_module_version": "1.2.0",
            "_view_name": "StyleView",
            "description_width": ""
          }
        },
        "dab21024f1254bc1bd880613a72f0469": {
          "model_module": "@jupyter-widgets/base",
          "model_module_version": "1.2.0",
          "model_name": "LayoutModel",
          "state": {
            "_model_module": "@jupyter-widgets/base",
            "_model_module_version": "1.2.0",
            "_model_name": "LayoutModel",
            "_view_count": null,
            "_view_module": "@jupyter-widgets/base",
            "_view_module_version": "1.2.0",
            "_view_name": "LayoutView",
            "align_content": null,
            "align_items": null,
            "align_self": null,
            "border": null,
            "bottom": null,
            "display": null,
            "flex": null,
            "flex_flow": null,
            "grid_area": null,
            "grid_auto_columns": null,
            "grid_auto_flow": null,
            "grid_auto_rows": null,
            "grid_column": null,
            "grid_gap": null,
            "grid_row": null,
            "grid_template_areas": null,
            "grid_template_columns": null,
            "grid_template_rows": null,
            "height": null,
            "justify_content": null,
            "justify_items": null,
            "left": null,
            "margin": null,
            "max_height": null,
            "max_width": null,
            "min_height": null,
            "min_width": null,
            "object_fit": null,
            "object_position": null,
            "order": null,
            "overflow": null,
            "overflow_x": null,
            "overflow_y": null,
            "padding": null,
            "right": null,
            "top": null,
            "visibility": null,
            "width": null
          }
        },
        "f0e79cb70b834aad94e32f8bff2db0a8": {
          "model_module": "@jupyter-widgets/base",
          "model_module_version": "1.2.0",
          "model_name": "LayoutModel",
          "state": {
            "_model_module": "@jupyter-widgets/base",
            "_model_module_version": "1.2.0",
            "_model_name": "LayoutModel",
            "_view_count": null,
            "_view_module": "@jupyter-widgets/base",
            "_view_module_version": "1.2.0",
            "_view_name": "LayoutView",
            "align_content": null,
            "align_items": null,
            "align_self": null,
            "border": null,
            "bottom": null,
            "display": null,
            "flex": null,
            "flex_flow": null,
            "grid_area": null,
            "grid_auto_columns": null,
            "grid_auto_flow": null,
            "grid_auto_rows": null,
            "grid_column": null,
            "grid_gap": null,
            "grid_row": null,
            "grid_template_areas": null,
            "grid_template_columns": null,
            "grid_template_rows": null,
            "height": null,
            "justify_content": null,
            "justify_items": null,
            "left": null,
            "margin": null,
            "max_height": null,
            "max_width": null,
            "min_height": null,
            "min_width": null,
            "object_fit": null,
            "object_position": null,
            "order": null,
            "overflow": null,
            "overflow_x": null,
            "overflow_y": null,
            "padding": null,
            "right": null,
            "top": null,
            "visibility": null,
            "width": null
          }
        }
      }
    }
  },
  "nbformat": 4,
  "nbformat_minor": 0
}
